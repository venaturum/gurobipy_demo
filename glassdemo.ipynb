{
 "cells": [
  {
   "cell_type": "code",
   "execution_count": null,
   "metadata": {},
   "outputs": [],
   "source": [
    "import gurobipy as gp"
   ]
  },
  {
   "cell_type": "code",
   "execution_count": null,
   "metadata": {},
   "outputs": [],
   "source": [
    "m = gp.read(\"glass4.mps\")"
   ]
  },
  {
   "cell_type": "code",
   "execution_count": null,
   "metadata": {},
   "outputs": [],
   "source": [
    "m.params.TimeLimit=10  # 10 seconds\n",
    "m.params.Threads=1\n",
    "m.optimize()\n"
   ]
  },
  {
   "cell_type": "code",
   "execution_count": null,
   "metadata": {},
   "outputs": [],
   "source": [
    "options = {\n",
    "    \"WLSACCESSID\": \"XXXX\",\n",
    "    \"WLSSECRET\": \"XXXX\",\n",
    "    \"LICENSEID\": 00000,\n",
    "}\n",
    "with gp.Env(params=options) as env, gp.read(\"glass4.mps\", env=env) as m:\n",
    "    m.params.TimeLimit=10\n",
    "    m.params.Threads=1\n",
    "    m.optimize()"
   ]
  }
 ],
 "metadata": {
  "language_info": {
   "name": "python"
  },
  "orig_nbformat": 4
 },
 "nbformat": 4,
 "nbformat_minor": 2
}
